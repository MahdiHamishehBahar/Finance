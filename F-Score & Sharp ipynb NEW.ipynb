{
 "cells": [
  {
   "cell_type": "markdown",
   "metadata": {},
   "source": [
    "## Calculates the Piotroski F-score for a Range of stocks"
   ]
  },
  {
   "cell_type": "code",
   "execution_count": 25,
   "metadata": {},
   "outputs": [
    {
     "name": "stdout",
     "output_type": "stream",
     "text": [
      "The F-Score for the portfolio is 8.67\n"
     ]
    }
   ],
   "source": [
    "import requests\n",
    "\n",
    "# replace YOUR_API_KEY with your actual API key from financialmodelingprep\n",
    "api_key = '0093a06c2199659b77c42c1409f2ed53'\n",
    "\n",
    "# replace stocks with a list of stock tickers in your portfolio\n",
    "stocks = ['AAPL', 'GOOG', 'MSFT']\n",
    "\n",
    "# initialize variables for F-Score calculation\n",
    "total_points = 0\n",
    "positive_points = 0\n",
    "\n",
    "for stock in stocks:\n",
    "    # retrieve financial data for the current stock\n",
    "    url = f'https://financialmodelingprep.com/api/v3/financials/income-statement/{stock}?apikey={api_key}'\n",
    "    response = requests.get(url)\n",
    "    data = response.json()\n",
    "    \n",
    "    url1 = f'https://financialmodelingprep.com/api/v3/financials/cash-flow-statement/{stock}?apikey={api_key}'\n",
    "    response1 = requests.get(url1)\n",
    "    data1 = response1.json()\n",
    "    \n",
    "    response2 = requests.get(f\"https://financialmodelingprep.com/api/v3/income-statement/{stock}?apikey={api_key}\")\n",
    "    data2 = response2.json()\n",
    "    \n",
    "    response3 = requests.get(f\"https://financialmodelingprep.com/api/v3/ratios/{stock}?apikey={api_key}\")\n",
    "    data3 = response3.json()\n",
    "    \n",
    "    response4 = requests.get(f\"https://financialmodelingprep.com/api/v3/balance-sheet-statement/{stock}?apikey={api_key}\")\n",
    "    data4 = response4.json()\n",
    "    \n",
    "    # calculate the relevant financial metrics\n",
    "    operating_cash_flow = float(data1['financials'][0]['Operating Cash Flow'])\n",
    "    # calculate the relevant financial metrics\n",
    "    net_income = data2[0][\"netIncome\"]\n",
    "    return_on_assets =  float(data3[0][\"returnOnAssets\"])\n",
    "    accrual = operating_cash_flow / net_income - 1\n",
    "    long_term_debt =  float(data3[0][\"longTermDebtToCapitalization\"])\n",
    "    total_assets = data4[0][\"totalAssets\"]\n",
    "    totalCurrentAssets = data4[0][\"totalCurrentAssets\"]\n",
    "    totalCurrentLiabilities = data4[0][\"totalCurrentLiabilities\"]\n",
    "    \n",
    "    current_ratio = totalCurrentLiabilities / totalCurrentAssets\n",
    "    # add points based on the F-Score criteria\n",
    "    if return_on_assets > 0:\n",
    "        positive_points += 1\n",
    "    if accrual > 0:\n",
    "        positive_points += 1\n",
    "    if net_income > 0 and operating_cash_flow > 0:\n",
    "        positive_points += 1\n",
    "    if long_term_debt / total_assets < 0.4:\n",
    "        positive_points += 1\n",
    "    if current_ratio > 1:\n",
    "        positive_points += 1\n",
    "    \n",
    "    total_points += 5  # add 5 points for each criteria met\n",
    "\n",
    "# calculate the F-Score for the portfolio\n",
    "f_score = positive_points / total_points * 10\n",
    "\n",
    "print(f'The F-Score for the portfolio is {f_score:.2f}')\n"
   ]
  },
  {
   "cell_type": "markdown",
   "metadata": {},
   "source": [
    "### inventory turnover ratio"
   ]
  },
  {
   "cell_type": "code",
   "execution_count": null,
   "metadata": {},
   "outputs": [],
   "source": [
    "import requests\n",
    "\n",
    "# Set API key and company symbol\n",
    "api_key = '0093a06c2199659b77c42c1409f2ed53'\n",
    "symbol = 'AAPL'\n",
    "\n",
    "# Retrieve revenue and COGS from the income statement for the latest period\n",
    "income_url = f'https://financialmodelingprep.com/api/v3/income-statement/{symbol}?apikey={api_key}&limit=1'\n",
    "income_response = requests.get(income_url).json()\n",
    "revenue = float(income_response[0]['revenue'])\n",
    "cogs = float(income_response[0]['costOfRevenue'])\n",
    "\n",
    "# Retrieve inventory data from the balance sheet for the latest period\n",
    "balance_url = f'https://financialmodelingprep.com/api/v3/balance-sheet-statement/{symbol}?apikey={api_key}&limit=1'\n",
    "balance_response = requests.get(balance_url).json()\n",
    "current_inventory = float(balance_response[0]['inventory'])\n",
    "total_assets = float(balance_response[0]['totalAssets'])\n",
    "\n",
    "# Estimate the previous inventory value as the difference between total assets and current inventory\n",
    "previous_inventory = total_assets - current_inventory\n",
    "\n",
    "# Calculate inventory turnover ratio\n",
    "cost_of_goods_sold = revenue - cogs\n",
    "average_inventory = (current_inventory + previous_inventory) / 2\n",
    "turnover_ratio = cost_of_goods_sold / average_inventory\n",
    "\n",
    "# Print the result\n",
    "print(f'The inventory turnover ratio for {symbol} is {turnover_ratio:.2f}.')\n"
   ]
  },
  {
   "cell_type": "code",
   "execution_count": null,
   "metadata": {},
   "outputs": [],
   "source": []
  },
  {
   "cell_type": "code",
   "execution_count": 49,
   "metadata": {},
   "outputs": [
    {
     "name": "stderr",
     "output_type": "stream",
     "text": [
      "<ipython-input-49-47efc648d187>:33: RuntimeWarning: divide by zero encountered in scalar divide\n",
      "  sharpe_ratio = (expected_return - risk_free_rate) / std_dev\n"
     ]
    },
    {
     "name": "stdout",
     "output_type": "stream",
     "text": [
      "        Expected Return  Standard Deviation  Sharpe Ratio\n",
      "Ticker                                                   \n",
      "AAPL           1.969589        0.000000e+00           inf\n",
      "GOOGL          0.234134        0.000000e+00           inf\n",
      "MSFT           0.436755        5.551115e-17  6.967153e+15\n"
     ]
    }
   ],
   "source": [
    "import requests\n",
    "import numpy as np\n",
    "\n",
    "# Set the API endpoint and parameters\n",
    "endpoint = 'https://financialmodelingprep.com/api/v3/financials/income-statement/{}'\n",
    "params = {'apikey': '0093a06c2199659b77c42c1409f2ed53', 'period': 'annual'}\n",
    "\n",
    "# Set the tickers of the stocks you want to analyze\n",
    "tickers = ['AAPL', 'GOOGL', 'MSFT']\n",
    "\n",
    "# Set the risk-free rate\n",
    "risk_free_rate = 0.05\n",
    "\n",
    "# Create a list to store the results\n",
    "results = []\n",
    "\n",
    "# Loop through the tickers and make API requests for each stock\n",
    "for ticker in tickers:\n",
    "    # Make the API request for the stock's income statement\n",
    "    response = requests.get(endpoint.format(ticker), params=params)\n",
    "    data = response.json()\n",
    "    \n",
    "    url1 = f'https://financialmodelingprep.com/api/v3/ratios/{ticker}?apikey=0093a06c2199659b77c42c1409f2ed53'\n",
    "    response1 = requests.get(url1)\n",
    "    data1 = response1.json()\n",
    "    \n",
    "    # Extract the annual return on equity and calculate the expected return and standard deviation\n",
    "    annual_roe = [float(data1[0]['returnOnEquity']) for d in data['financials'][:5]]  # use only last 5 years' data\n",
    "    expected_return = np.mean(annual_roe)\n",
    "    std_dev = np.std(annual_roe)\n",
    "    \n",
    "    # Calculate the Sharpe ratio and store the result\n",
    "    sharpe_ratio = (expected_return - risk_free_rate) / std_dev\n",
    "    results.append({'Ticker': ticker, 'Expected Return': expected_return, 'Standard Deviation': std_dev, 'Sharpe Ratio': sharpe_ratio})\n",
    "\n",
    "# Create a Pandas DataFrame to store the results\n",
    "df = pd.DataFrame(results)\n",
    "df.set_index('Ticker', inplace=True)\n",
    "\n",
    "# Print the DataFrame\n",
    "print(df)\n"
   ]
  },
  {
   "cell_type": "code",
   "execution_count": null,
   "metadata": {},
   "outputs": [],
   "source": []
  },
  {
   "cell_type": "markdown",
   "metadata": {},
   "source": [
    "## Dow Jones index & Sharp Ratio for annual portfolio "
   ]
  },
  {
   "cell_type": "code",
   "execution_count": 52,
   "metadata": {},
   "outputs": [
    {
     "name": "stdout",
     "output_type": "stream",
     "text": [
      "[*********************100%***********************]  1 of 1 completed\n"
     ]
    }
   ],
   "source": [
    "import yfinance as yf\n",
    "import pandas as pd\n",
    "import requests\n",
    "from alpha_vantage.fundamentaldata import FundamentalData\n",
    "\n",
    "# Define your API key\n",
    "api_key = 'VBQK7O4DSYUTBN6S'\n",
    "\n",
    "# Create a FundamentalData object\n",
    "fd_key = FundamentalData(key=api_key, output_format='pandas')\n",
    "\n",
    "\n",
    "# Define the ticker symbol for the DJIA index\n",
    "ticker = \"^DJI\"\n",
    "\n",
    "# Get the historical data for the DJIA index\n",
    "dow_jones = yf.download(ticker, period=\"1y\")\n",
    "\n",
    "# Save the data to a CSV file\n",
    "dow_jones.to_csv(\"^DJI.csv\")"
   ]
  },
  {
   "cell_type": "code",
   "execution_count": 54,
   "metadata": {},
   "outputs": [],
   "source": [
    "def get_net_income(income_df):\n",
    "    return float(income_df.loc['netIncome'][0])\n",
    "\n",
    "def get_roa(balance_df, income_df):\n",
    "    current = float(balance_df.loc['totalAssets'][0])\n",
    "    previous = float(balance_df.loc['totalAssets'][1])\n",
    "    av_assets=(current+previous)/2\n",
    "    return get_net_income(income_df)/av_assets\n",
    "\n",
    "def get_ocf(cash_df):\n",
    "    return float(cash_df.loc['operatingCashflow'][0])\n",
    "\n",
    "def get_ltdebt(balance_df):\n",
    "    current = float(balance_df.loc['longTermDebt'][0])\n",
    "    previous = float(balance_df.loc['longTermDebt'][1])\n",
    "    return previous - current\n",
    "\n",
    "def get_current_ratio(balance_df):\n",
    "    current_TCA = float(balance_df.loc['totalCurrentAssets'][0])\n",
    "    previous_TCA = float(balance_df.loc['totalCurrentAssets'][1])\n",
    "    current_TCL = float(balance_df.loc['totalCurrentLiabilities'][0])\n",
    "    previous_TCL = float(balance_df.loc['totalCurrentLiabilities'][1])\n",
    "    ratio1 = current_TCA/ current_TCL\n",
    "    ratio2 = previous_TCA / previous_TCL\n",
    "    return ratio1-ratio2\n",
    "\n",
    "def get_new_shares(balance_df):\n",
    "    current = float(balance_df.loc['commonStock'][0])\n",
    "    previous = float(balance_df.loc['commonStock'][1])\n",
    "    return current - previous \n",
    "\n",
    "def get_gross_margin(income_df):\n",
    "    current = float(income_df.loc['grossProfit'][0])/float(income_df.loc['totalRevenue'][0])\n",
    "    previous =  float(income_df.loc['grossProfit'][1])/float(income_df.loc['totalRevenue'][1])\n",
    "    return current - previous\n",
    "\n",
    "def get_asset_turnover_ratio(income_df, balance_df):\n",
    "    current = float(balance_df.loc['totalAssets'][0])\n",
    "    prev_1 = float(balance_df.loc['totalAssets'][1])\n",
    "    prev_2 = float(balance_df.loc['totalAssets'][2])\n",
    "    av_assets1=(current+prev_1)/2\n",
    "    av_assets2=(prev_1+ prev_2)/2\n",
    "    atr1=float(income_df.loc['totalRevenue'][0])/av_assets1\n",
    "    atr2=float(income_df.loc['totalRevenue'][1])/av_assets2\n",
    "    return atr1-atr2\n",
    "\n",
    "def get_piotroski_score(income_df, balance_df, cash_df):\n",
    "    score=0\n",
    "    \n",
    "    if get_net_income(income_df)>0:\n",
    "        score +=1\n",
    "\n",
    "    if get_roa(balance_df, income_df)>0:\n",
    "        score +=1\n",
    "        \n",
    "    if get_ocf(cash_df)>0:\n",
    "        score +=1\n",
    "        \n",
    "    if get_ocf(cash_df)>get_net_income(income_df):\n",
    "        score +=1\n",
    "        \n",
    "    if get_ltdebt(balance_df)>0:\n",
    "        score +=1\n",
    "        \n",
    "    if get_current_ratio(balance_df)>0:\n",
    "        score +=1\n",
    "        \n",
    "    if get_new_shares(balance_df)>0:\n",
    "        score +=1\n",
    "        \n",
    "    if get_gross_margin(income_df)>0:\n",
    "        score +=1\n",
    "        \n",
    "    if get_asset_turnover_ratio(income_df, balance_df)>0:\n",
    "        score +=1\n",
    "        \n",
    "    return score\n",
    "\n",
    "\n",
    "\n",
    "def get_income_statement_annual(ticker):\n",
    "    url = f'https://financialmodelingprep.com/api/v3/ratios/{ticker}?apikey=0093a06c2199659b77c42c1409f2ed53'\n",
    "    response = requests.get(url)\n",
    "    return response.json()"
   ]
  },
  {
   "cell_type": "code",
   "execution_count": 55,
   "metadata": {},
   "outputs": [
    {
     "name": "stdout",
     "output_type": "stream",
     "text": [
      "[*********************100%***********************]  3 of 3 completed\n",
      "Portfolio Sharpe ratio: -0.02417174790538655\n",
      "Dow Jones index return: -7.314564531207246e-05\n"
     ]
    }
   ],
   "source": [
    "import yfinance as yf\n",
    "import pandas as pd\n",
    "import numpy as np\n",
    "\n",
    "# Define your portfolio of stocks with their weights\n",
    "portfolio = {'AAPL': 0.6, 'AMZN': 0.3, 'MSFT': 0.1}\n",
    "\n",
    "# Get the historical data for the portfolio stocks\n",
    "tickers = list(portfolio.keys())\n",
    "start_date = pd.Timestamp.now() - pd.Timedelta(days=365)\n",
    "end_date = pd.Timestamp.now()\n",
    "prices = yf.download(tickers, start=start_date, end=end_date)['Adj Close']\n",
    "\n",
    "# Calculate the daily returns of the portfolio\n",
    "returns = prices.pct_change().dropna()\n",
    "\n",
    "# Get the Piotroski F-score of the portfolio stocks\n",
    "f_scores = {}\n",
    "for ticker in portfolio.keys():\n",
    "    f_scores[ticker] = get_piotroski_score(income_statement, balance_sheet, cash_flow)\n",
    "\n",
    "# Calculate the average F-score of the portfolio\n",
    "avg_f_score = np.mean(list(f_scores.values()))\n",
    "\n",
    "# Get the Dow Jones index returns for the past year\n",
    "dow_jones = pd.read_csv('^DJI.csv', index_col='Date', parse_dates=True)\n",
    "dow_jones_returns = dow_jones['Close'].pct_change().dropna()\n",
    "dow_jones_avg_return = dow_jones_returns.mean()\n",
    "\n",
    "# Calculate the Sharpe ratio of the portfolio\n",
    "portfolio_return = (returns * list(portfolio.values())).sum(axis=1).mean()\n",
    "portfolio_volatility = returns.std().dot(list(portfolio.values()))\n",
    "portfolio_sharpe_ratio = (portfolio_return - dow_jones_avg_return) / portfolio_volatility\n",
    "\n",
    "print('Portfolio Sharpe ratio:', portfolio_sharpe_ratio)\n",
    "print('Dow Jones index return:', dow_jones_avg_return)\n"
   ]
  },
  {
   "cell_type": "markdown",
   "metadata": {},
   "source": [
    "## how to use finpy_tse to get historical data for a specific stock:"
   ]
  },
  {
   "cell_type": "code",
   "execution_count": null,
   "metadata": {},
   "outputs": [],
   "source": [
    "from finpy_tse import *\n",
    "import pandas as pd\n",
    "import finpy_tse as fpy\n",
    "fpy.Get_Price_History(\n",
    "    stock='خودرو',\n",
    "    start_date='1400-01-01',\n",
    "    end_date='1401-01-01',\n",
    "    ignore_date=False,\n",
    "    adjust_price=False,\n",
    "    show_weekday=False,\n",
    "    double_date=False)"
   ]
  },
  {
   "cell_type": "code",
   "execution_count": null,
   "metadata": {},
   "outputs": [],
   "source": [
    "DF1 = fpy.Build_Market_StockList(bourse=True,\n",
    "                                 farabourse=True,\n",
    "                                 payeh=True,\n",
    "                                 detailed_list=False,\n",
    "                                 show_progress=True,\n",
    "                                 save_excel=False,\n",
    "                                 save_csv=False)"
   ]
  },
  {
   "cell_type": "code",
   "execution_count": null,
   "metadata": {},
   "outputs": [],
   "source": [
    "print(DF1.head())"
   ]
  },
  {
   "cell_type": "code",
   "execution_count": null,
   "metadata": {},
   "outputs": [],
   "source": [
    "Tickers = DF1.index.to_list()\n",
    "Tickers"
   ]
  }
 ],
 "metadata": {
  "kernelspec": {
   "display_name": "Python 3",
   "language": "python",
   "name": "python3"
  },
  "language_info": {
   "codemirror_mode": {
    "name": "ipython",
    "version": 3
   },
   "file_extension": ".py",
   "mimetype": "text/x-python",
   "name": "python",
   "nbconvert_exporter": "python",
   "pygments_lexer": "ipython3",
   "version": "3.8.5"
  }
 },
 "nbformat": 4,
 "nbformat_minor": 4
}
